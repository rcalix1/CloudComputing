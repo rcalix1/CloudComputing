{
 "cells": [
  {
   "cell_type": "code",
   "execution_count": 1,
   "id": "138b59aa-0b6c-41e6-af04-402598a925ce",
   "metadata": {},
   "outputs": [],
   "source": [
    "\n",
    "import replicate\n"
   ]
  },
  {
   "cell_type": "code",
   "execution_count": 8,
   "id": "926455ae-e090-4783-a4cc-35620ecbed34",
   "metadata": {},
   "outputs": [
    {
     "name": "stdout",
     "output_type": "stream",
     "text": [
      "https://replicate.delivery/xezq/I3MdMZpFWn4NORCbZtY6Zy42eEvL6CJ1K8rbCMH8n9lOEvQKA/output.mp4\n"
     ]
    }
   ],
   "source": [
    "\n",
    "output = replicate.run(\n",
    "    \"wavespeedai/wan-2.1-t2v-480p\",\n",
    "    input={\n",
    "        \"prompt\": \"A hacker using AI to break into the CIA vault while other agents are looking at cyber security issues\",\n",
    "        \"fast_mode\": \"Balanced\",\n",
    "        \"lora_scale\": 1,\n",
    "        \"num_frames\": 81,\n",
    "        \"aspect_ratio\": \"16:9\",\n",
    "        \"sample_shift\": 5,\n",
    "        \"sample_steps\": 30,\n",
    "        \"frames_per_second\": 16,\n",
    "        \"sample_guide_scale\": 5\n",
    "    }\n",
    ")\n",
    "print(output)\n"
   ]
  },
  {
   "cell_type": "code",
   "execution_count": null,
   "id": "b1789744-7f48-4da9-8e22-46290a6715ed",
   "metadata": {},
   "outputs": [],
   "source": []
  },
  {
   "cell_type": "code",
   "execution_count": null,
   "id": "a6ea0edc-80c1-41c6-a317-513f56c1ed7f",
   "metadata": {},
   "outputs": [],
   "source": []
  },
  {
   "cell_type": "code",
   "execution_count": null,
   "id": "1d4fc448-1d2a-4fb1-82a6-349bae190eef",
   "metadata": {},
   "outputs": [],
   "source": []
  },
  {
   "cell_type": "code",
   "execution_count": null,
   "id": "ca8b15d8-6180-4b02-8a52-088f4929087a",
   "metadata": {},
   "outputs": [],
   "source": []
  },
  {
   "cell_type": "code",
   "execution_count": null,
   "id": "d36a3913-916b-4abd-9ba9-3b46cafc4dd4",
   "metadata": {},
   "outputs": [],
   "source": []
  },
  {
   "cell_type": "code",
   "execution_count": null,
   "id": "154779e1-73ed-4b0d-8ce9-ba9c23ca5108",
   "metadata": {},
   "outputs": [],
   "source": []
  },
  {
   "cell_type": "code",
   "execution_count": null,
   "id": "9b2c2aff-7b04-4816-8a30-cb2e8363e033",
   "metadata": {},
   "outputs": [],
   "source": []
  },
  {
   "cell_type": "code",
   "execution_count": null,
   "id": "1545fd10-2ab2-4d1a-80e4-3bf3c75adc10",
   "metadata": {},
   "outputs": [],
   "source": []
  },
  {
   "cell_type": "code",
   "execution_count": null,
   "id": "e0a99a21-40af-4e81-9f6a-70dea8233786",
   "metadata": {},
   "outputs": [],
   "source": []
  }
 ],
 "metadata": {
  "kernelspec": {
   "display_name": "Python 3 (ipykernel)",
   "language": "python",
   "name": "python3"
  },
  "language_info": {
   "codemirror_mode": {
    "name": "ipython",
    "version": 3
   },
   "file_extension": ".py",
   "mimetype": "text/x-python",
   "name": "python",
   "nbconvert_exporter": "python",
   "pygments_lexer": "ipython3",
   "version": "3.9.20"
  }
 },
 "nbformat": 4,
 "nbformat_minor": 5
}

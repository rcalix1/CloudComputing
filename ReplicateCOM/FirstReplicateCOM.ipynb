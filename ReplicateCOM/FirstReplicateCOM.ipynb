{
 "cells": [
  {
   "cell_type": "markdown",
   "id": "e5016b8f-744a-40d1-9367-7e20c76805f5",
   "metadata": {},
   "source": [
    "\n",
    "## Simple Replicate example\n"
   ]
  },
  {
   "cell_type": "code",
   "execution_count": 42,
   "id": "a5aa73d9-b066-4cc6-acd0-d516642d6646",
   "metadata": {},
   "outputs": [
    {
     "name": "stdout",
     "output_type": "stream",
     "text": [
      "Collecting pillow\n",
      "  Downloading pillow-10.4.0-cp39-cp39-macosx_10_10_x86_64.whl.metadata (9.2 kB)\n",
      "Downloading pillow-10.4.0-cp39-cp39-macosx_10_10_x86_64.whl (3.5 MB)\n",
      "\u001b[2K   \u001b[90m━━━━━━━━━━━━━━━━━━━━━━━━━━━━━━━━━━━━━━━━\u001b[0m \u001b[32m3.5/3.5 MB\u001b[0m \u001b[31m13.5 MB/s\u001b[0m eta \u001b[36m0:00:00\u001b[0ma \u001b[36m0:00:01\u001b[0m\n",
      "\u001b[?25hInstalling collected packages: pillow\n",
      "Successfully installed pillow-10.4.0\n"
     ]
    }
   ],
   "source": [
    "\n",
    "## !pip install pillow\n"
   ]
  },
  {
   "cell_type": "code",
   "execution_count": 13,
   "id": "7116a346-2409-4b0b-8463-abb9ae5b29e0",
   "metadata": {},
   "outputs": [],
   "source": [
    "\n",
    "import replicate\n"
   ]
  },
  {
   "cell_type": "code",
   "execution_count": 14,
   "id": "4db869d9-e3d8-42d4-aafc-8c0dd4527fe3",
   "metadata": {},
   "outputs": [],
   "source": [
    "\n",
    " \n",
    "output = replicate.run(\n",
    "  \"black-forest-labs/flux-schnell\",\n",
    "  input={\"prompt\": \"a baby riding a yellow cat\"}\n",
    ")\n"
   ]
  },
  {
   "cell_type": "code",
   "execution_count": 21,
   "id": "91a1f221-2b02-4433-8cb5-a80759fe8e64",
   "metadata": {},
   "outputs": [
    {
     "data": {
      "text/plain": [
       "[<replicate.helpers.FileOutput at 0x110a74130>]"
      ]
     },
     "execution_count": 21,
     "metadata": {},
     "output_type": "execute_result"
    }
   ],
   "source": [
    "\n",
    "output\n"
   ]
  },
  {
   "cell_type": "code",
   "execution_count": 39,
   "id": "13e1b50d-ee77-48b6-abc7-d67b8345f810",
   "metadata": {},
   "outputs": [],
   "source": [
    "\n",
    "## dir( output )\n"
   ]
  },
  {
   "cell_type": "code",
   "execution_count": 32,
   "id": "30e13d56-66f7-42e7-bb95-3da3fa06b0b2",
   "metadata": {},
   "outputs": [
    {
     "data": {
      "text/plain": [
       "'\\niterator = replicate.run(\\n  \"mistralai/mixtral-8x7b-instruct-v0.1\",\\n  input={\"prompt\": \"Who was Dolly the sheep?\"},\\n  request_timeout=600\\n)\\n'"
      ]
     },
     "execution_count": 32,
     "metadata": {},
     "output_type": "execute_result"
    }
   ],
   "source": [
    "\n",
    "'''\n",
    "iterator = replicate.run(\n",
    "  \"mistralai/mixtral-8x7b-instruct-v0.1\",\n",
    "  input={\"prompt\": \"Who was Dolly the sheep?\"},\n",
    "  request_timeout=600\n",
    ")\n",
    "'''\n"
   ]
  },
  {
   "cell_type": "code",
   "execution_count": 33,
   "id": "4fa61a42-db04-4ce9-890b-0aefb55496a0",
   "metadata": {},
   "outputs": [
    {
     "data": {
      "text/plain": [
       "'\\nfor text in iterator:\\n    print(text)\\n'"
      ]
     },
     "execution_count": 33,
     "metadata": {},
     "output_type": "execute_result"
    }
   ],
   "source": [
    "\n",
    "'''\n",
    "for text in iterator:\n",
    "    print(text)\n",
    "'''\n"
   ]
  },
  {
   "cell_type": "code",
   "execution_count": 34,
   "id": "5a2b88ee-c36d-479b-b9c6-4ea11df47284",
   "metadata": {},
   "outputs": [
    {
     "data": {
      "text/plain": [
       "'\\nreplicate.run(\\n        \"stability-ai/stable-diffusion:27b93a2413e7f36cd83da926f3656280b2931564ff050bf9575f1fdf9bcd7478\",\\n        input={\"prompt\": \"a 19th century portrait of a wombat gentleman\"}\\n)\\n'"
      ]
     },
     "execution_count": 34,
     "metadata": {},
     "output_type": "execute_result"
    }
   ],
   "source": [
    "\n",
    "'''\n",
    "replicate.run(\n",
    "        \"stability-ai/stable-diffusion:27b93a2413e7f36cd83da926f3656280b2931564ff050bf9575f1fdf9bcd7478\",\n",
    "        input={\"prompt\": \"a 19th century portrait of a wombat gentleman\"}\n",
    ")\n",
    "'''\n"
   ]
  },
  {
   "cell_type": "code",
   "execution_count": null,
   "id": "22d2d617-fe31-4aab-baff-ba2da651d070",
   "metadata": {},
   "outputs": [],
   "source": []
  },
  {
   "cell_type": "code",
   "execution_count": 35,
   "id": "fd761f0d-5d17-4186-b082-5ccfbb107dc4",
   "metadata": {},
   "outputs": [
    {
     "name": "stdout",
     "output_type": "stream",
     "text": [
      "\n",
      "\n",
      "In aviation, a power-on stall is a type of stall that occurs when an aircraft's engine is producing power, but the wings are still stalled. This can happen when an aircraft is flying at a high angle of attack, typically during takeoff or climb, and the pilot fails to reduce the angle of attack in time.\n",
      "\n",
      "During a power-on stall, the engine is still producing thrust, but the wings are not producing enough lift to counteract the weight of the aircraft. This can cause the aircraft to pitch up, yaw, or roll, leading to a loss of control.\n",
      "\n",
      "Power-on stalls are particularly dangerous because they can occur at low altitudes, making it difficult for the pilot to recover before hitting the ground. They can also be more difficult to recover from than a traditional stall, because the engine's thrust can exacerbate the stall.\n",
      "\n",
      "Some common scenarios that can lead to a power-on stall include:\n",
      "\n",
      "1. Over-rotation during takeoff, causing the aircraft to pitch up too steeply.\n",
      "2. Failure to reduce power during climb, causing the aircraft to continue to climb at a high angle of attack.\n",
      "3. Insufficient airspeed during climb, causing the aircraft to stall.\n",
      "4. Turbulence or wind shear, which can cause the aircraft to pitch up or yaw.\n",
      "\n",
      "To avoid power-on stalls, pilots are trained to:\n",
      "\n",
      "1. Monitor airspeed and angle of attack during takeoff and climb.\n",
      "2. Reduce power gradually during climb to avoid over-rotation.\n",
      "3. Maintain a safe margin of airspeed above stall speed.\n",
      "4. Be aware of weather conditions and turbulence.\n",
      "\n",
      "Recovering from a power-on stall typically involves reducing power, pitching down to reduce the angle of attack, and increasing airspeed to regain lift. However, the specific recovery procedures may vary depending on the aircraft type and the circumstances of the stall."
     ]
    }
   ],
   "source": [
    "\n",
    "for event in replicate.stream(\n",
    "    \"meta/meta-llama-3-70b-instruct\",\n",
    "    input={\n",
    "        \"prompt\": \"what is a power on stall in aviation?\",\n",
    "    },\n",
    "): print(str(event), end=\"\")\n"
   ]
  },
  {
   "cell_type": "code",
   "execution_count": null,
   "id": "25e29a10-5a13-48b5-b46e-5e45ddcd9406",
   "metadata": {},
   "outputs": [],
   "source": []
  },
  {
   "cell_type": "code",
   "execution_count": 43,
   "id": "a96244a9-bb86-4a64-a00c-007cc5fca784",
   "metadata": {},
   "outputs": [],
   "source": [
    "\n",
    "\n",
    "from PIL import Image\n",
    "from urllib.request import urlretrieve\n",
    "\n",
    "out = replicate.run(\n",
    "    \"stability-ai/stable-diffusion:27b93a2413e7f36cd83da926f3656280b2931564ff050bf9575f1fdf9bcd7478\",\n",
    "    input={\"prompt\": \"wavy colorful abstract patterns, oceans\"}\n",
    "    )\n",
    "\n",
    "\n"
   ]
  },
  {
   "cell_type": "code",
   "execution_count": null,
   "id": "87e139ff-93d2-4aa1-bb3d-ad792f856cf3",
   "metadata": {},
   "outputs": [],
   "source": []
  },
  {
   "cell_type": "code",
   "execution_count": null,
   "id": "cea2d9b0-28c9-47db-9397-c85ab0dfb69b",
   "metadata": {},
   "outputs": [],
   "source": []
  },
  {
   "cell_type": "code",
   "execution_count": 47,
   "id": "de455231-2a19-43b4-9a6f-4f84e2192151",
   "metadata": {},
   "outputs": [
    {
     "data": {
      "text/plain": [
       "'\\nurlretrieve(out, \"out.png\")\\nbackground = Image.open(\"out.png\")\\n'"
      ]
     },
     "execution_count": 47,
     "metadata": {},
     "output_type": "execute_result"
    }
   ],
   "source": [
    "'''\n",
    "urlretrieve(out, \"out.png\")\n",
    "background = Image.open(\"out.png\")\n",
    "'''"
   ]
  },
  {
   "cell_type": "code",
   "execution_count": null,
   "id": "9635fb7c-964b-433e-8c3b-0e6839bc0a03",
   "metadata": {},
   "outputs": [],
   "source": []
  },
  {
   "cell_type": "code",
   "execution_count": 46,
   "id": "a52641d0-71fb-4512-a1e0-4ba37b845114",
   "metadata": {},
   "outputs": [
    {
     "data": {
      "text/plain": [
       "[<replicate.helpers.FileOutput at 0x110c32eb0>]"
      ]
     },
     "execution_count": 46,
     "metadata": {},
     "output_type": "execute_result"
    }
   ],
   "source": [
    "\n",
    "out\n"
   ]
  },
  {
   "cell_type": "code",
   "execution_count": null,
   "id": "78aca242-11b9-422a-8e61-3565a2443bb2",
   "metadata": {},
   "outputs": [],
   "source": []
  },
  {
   "cell_type": "code",
   "execution_count": null,
   "id": "05a32783-9684-4a0a-ae3f-849c44293cc0",
   "metadata": {},
   "outputs": [],
   "source": []
  }
 ],
 "metadata": {
  "kernelspec": {
   "display_name": "Python 3 (ipykernel)",
   "language": "python",
   "name": "python3"
  },
  "language_info": {
   "codemirror_mode": {
    "name": "ipython",
    "version": 3
   },
   "file_extension": ".py",
   "mimetype": "text/x-python",
   "name": "python",
   "nbconvert_exporter": "python",
   "pygments_lexer": "ipython3",
   "version": "3.9.20"
  }
 },
 "nbformat": 4,
 "nbformat_minor": 5
}
